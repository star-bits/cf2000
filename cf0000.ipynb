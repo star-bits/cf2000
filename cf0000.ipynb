{
 "cells": [
  {
   "cell_type": "code",
   "execution_count": 1,
   "id": "3ace19e9",
   "metadata": {},
   "outputs": [
    {
     "name": "stdout",
     "output_type": "stream",
     "text": [
      "base: /opt/homebrew/Caskroom/miniconda/base/envs/xcda\n",
      "prfx: /opt/homebrew/Caskroom/miniconda/base/envs/xcda\n"
     ]
    }
   ],
   "source": [
    "import sys\n",
    "\n",
    "if hasattr(sys, 'base_prefix'):\n",
    "    print(f\"base: {sys.base_prefix}\")\n",
    "\n",
    "if hasattr(sys, 'real_prefix'):\n",
    "    print(f\"real: {sys.real_prefix}\")\n",
    "\n",
    "if hasattr(sys, 'prefix'):\n",
    "    print(f\"prfx: {sys.prefix}\")"
   ]
  },
  {
   "cell_type": "markdown",
   "id": "279e1ba5",
   "metadata": {},
   "source": [
    "# Built-in functions"
   ]
  },
  {
   "cell_type": "markdown",
   "id": "2f951544",
   "metadata": {},
   "source": [
    "`count()`, `index()`"
   ]
  },
  {
   "cell_type": "code",
   "execution_count": 49,
   "id": "e8084c20",
   "metadata": {},
   "outputs": [
    {
     "name": "stdout",
     "output_type": "stream",
     "text": [
      "2\n",
      "3\n"
     ]
    }
   ],
   "source": [
    "l = [10, 10, 10, 20, 20, 30]\n",
    "\n",
    "cnt = l.count(20) # val\n",
    "print(cnt)\n",
    "\n",
    "idx = l.index(20) # val\n",
    "print(idx)"
   ]
  },
  {
   "cell_type": "code",
   "execution_count": 50,
   "id": "946e7d26",
   "metadata": {},
   "outputs": [
    {
     "name": "stdout",
     "output_type": "stream",
     "text": [
      "[10, 10, 10, 20, 30]\n",
      "[10, 10, 20, 30]\n"
     ]
    }
   ],
   "source": [
    "l = [10, 10, 10, 20, 20, 30]\n",
    "\n",
    "l.remove(20) # val\n",
    "print(l)\n",
    "\n",
    "l.pop(2) # idx\n",
    "print(l)"
   ]
  },
  {
   "cell_type": "markdown",
   "id": "1832f603",
   "metadata": {},
   "source": [
    "`replace()`"
   ]
  },
  {
   "cell_type": "code",
   "execution_count": 15,
   "id": "300af7f5",
   "metadata": {},
   "outputs": [
    {
     "name": "stdout",
     "output_type": "stream",
     "text": [
      "abd\n"
     ]
    }
   ],
   "source": [
    "s = 'abc'\n",
    "s = s.replace('c', 'd') # only works with str\n",
    "print(s)"
   ]
  },
  {
   "cell_type": "code",
   "execution_count": 12,
   "id": "2f2a307a",
   "metadata": {},
   "outputs": [
    {
     "name": "stdout",
     "output_type": "stream",
     "text": [
      "[3, 2, 1]\n",
      "[1, 2, 3]\n"
     ]
    }
   ],
   "source": [
    "l = [1, 2, 3]\n",
    "\n",
    "l = list(reversed(l))\n",
    "print(l)\n",
    "\n",
    "l = l[::-1]\n",
    "print(l)"
   ]
  },
  {
   "cell_type": "markdown",
   "id": "847125c2",
   "metadata": {},
   "source": [
    "`.join()`, `map()`, `*l`"
   ]
  },
  {
   "cell_type": "code",
   "execution_count": 31,
   "id": "d169783b",
   "metadata": {},
   "outputs": [
    {
     "name": "stdout",
     "output_type": "stream",
     "text": [
      "1-2-3\n",
      "123\n",
      "[1, 2, 3]\n",
      "1 2 3\n"
     ]
    }
   ],
   "source": [
    "l = ['1', '2', '3']\n",
    "s = '-'.join(l)\n",
    "print(s)\n",
    "\n",
    "l = [1, 2, 3]\n",
    "s = ''.join(str(i) for i in l)\n",
    "print(s)\n",
    "\n",
    "l = list(map(int, s))\n",
    "print(l)\n",
    "\n",
    "print(*l)"
   ]
  },
  {
   "cell_type": "markdown",
   "id": "596b6b1c",
   "metadata": {},
   "source": [
    "`sorted l key lambda`"
   ]
  },
  {
   "cell_type": "code",
   "execution_count": 80,
   "id": "f2f11736",
   "metadata": {},
   "outputs": [
    {
     "name": "stdout",
     "output_type": "stream",
     "text": [
      "[(1, 2), (2, 2), (2, 3)]\n",
      "[(2, 2), (2, 3), (1, 2)]\n"
     ]
    }
   ],
   "source": [
    "l = [(2, 2), (2, 3), (1, 2)]\n",
    "\n",
    "m = sorted(l, key=lambda x: x[0])\n",
    "print(m)\n",
    "\n",
    "m = sorted(l, key=lambda x: (int(x[0]), -x[1]), reverse=True)\n",
    "print(m)"
   ]
  },
  {
   "cell_type": "code",
   "execution_count": 4,
   "id": "f1d419b7",
   "metadata": {},
   "outputs": [
    {
     "name": "stdout",
     "output_type": "stream",
     "text": [
      "[10, 20, 30]\n",
      "10\n"
     ]
    }
   ],
   "source": [
    "l = [10, 10, 10, 20, 20, 30]\n",
    "\n",
    "s = sorted(set(l), key=l.count, reverse=True) \n",
    "print(s)\n",
    "\n",
    "m = max(set(l), key=l.count)\n",
    "print(m)"
   ]
  },
  {
   "cell_type": "code",
   "execution_count": 23,
   "id": "e805c2d4",
   "metadata": {},
   "outputs": [
    {
     "name": "stdout",
     "output_type": "stream",
     "text": [
      "[('a', 1), ('b', 2), ('c', 3)]\n",
      "{'a': 1, 'b': 2, 'c': 3}\n"
     ]
    }
   ],
   "source": [
    "l1 = ['a', 'b', 'c']\n",
    "l2 = [1, 2, 3]\n",
    "\n",
    "lz = list(zip(l1, l2))\n",
    "print(lz)\n",
    "\n",
    "dz = dict(zip(l1, l2))\n",
    "print(dz)"
   ]
  },
  {
   "cell_type": "code",
   "execution_count": 25,
   "id": "bbec8074",
   "metadata": {},
   "outputs": [
    {
     "name": "stdout",
     "output_type": "stream",
     "text": [
      "[(1, 2), (1, 3), (2, 1), (2, 3), (3, 1), (3, 2)]\n",
      "[(1, 2), (1, 3), (2, 3)]\n"
     ]
    }
   ],
   "source": [
    "import itertools\n",
    "\n",
    "l = [1, 2, 3]\n",
    "\n",
    "lp = list(itertools.permutations(l, 2))\n",
    "print(lp)\n",
    "\n",
    "lc = list(itertools.combinations(l, 2))\n",
    "print(lc)"
   ]
  },
  {
   "cell_type": "code",
   "execution_count": 26,
   "id": "05fda436",
   "metadata": {},
   "outputs": [
    {
     "name": "stdout",
     "output_type": "stream",
     "text": [
      "{'a': 0, 'b': 1, 'c': 2}\n"
     ]
    }
   ],
   "source": [
    "l = ['a', 'b', 'c']\n",
    "\n",
    "d = {}\n",
    "for i in range(len(l)):\n",
    "    d[l[i]] = i\n",
    "    \n",
    "print(d)"
   ]
  },
  {
   "cell_type": "code",
   "execution_count": 27,
   "id": "848c1f35",
   "metadata": {},
   "outputs": [
    {
     "name": "stdout",
     "output_type": "stream",
     "text": [
      "{'a': [1, 2], 'b': [1]}\n"
     ]
    }
   ],
   "source": [
    "l = [('a', 1), ('a', 2), ('b', 1)]\n",
    "\n",
    "d = {}\n",
    "for i in l:\n",
    "    if i[0] in d:\n",
    "        d[i[0]].append(i[1])\n",
    "    else:\n",
    "        d[i[0]] = [i[1]]\n",
    "        \n",
    "print(d)"
   ]
  },
  {
   "cell_type": "code",
   "execution_count": 36,
   "id": "c9abad4b",
   "metadata": {},
   "outputs": [
    {
     "name": "stdout",
     "output_type": "stream",
     "text": [
      "{'A': {'a': 1}, 'B': {'a': 2}, 'C': {'a': 3}}\n",
      "dict_items([('A', {'a': 1}), ('B', {'a': 2}), ('C', {'a': 3})])\n",
      "[('C', {'a': 3}), ('B', {'a': 2}), ('A', {'a': 1})]\n",
      "{'A': {'a': 1}, 'B': {'a': 2}, 'C': {'a': 3}, 'D': {'a': 4}}\n"
     ]
    }
   ],
   "source": [
    "d = {'A': {'a': 1},\n",
    "     'B': {'a': 2}}\n",
    "\n",
    "d['C'] = {}\n",
    "d['C']['a'] = 3\n",
    "print(d)\n",
    "\n",
    "print(d.items())\n",
    "\n",
    "e = sorted(d.items(), key=lambda x: x[1]['a'], reverse=True)\n",
    "print(e)\n",
    "\n",
    "f = {'D': {'a': 4}}\n",
    "d.update(f)\n",
    "print(d)"
   ]
  },
  {
   "cell_type": "code",
   "execution_count": 47,
   "id": "698d259f",
   "metadata": {},
   "outputs": [
    {
     "name": "stdout",
     "output_type": "stream",
     "text": [
      "0.12\n"
     ]
    }
   ],
   "source": [
    "a = 0.1234\n",
    "\n",
    "print(f\"{a:.2f}\")"
   ]
  },
  {
   "cell_type": "code",
   "execution_count": 48,
   "id": "396d5ae8",
   "metadata": {},
   "outputs": [
    {
     "name": "stdout",
     "output_type": "stream",
     "text": [
      "abcdefghijklmnopqrstuvwxyz"
     ]
    }
   ],
   "source": [
    "for i in range(97, 123):\n",
    "    print(f\"{chr(i)}\", end=\"\")"
   ]
  },
  {
   "cell_type": "markdown",
   "id": "c5741292",
   "metadata": {},
   "source": [
    "# Factorization"
   ]
  },
  {
   "cell_type": "code",
   "execution_count": 60,
   "id": "1e8f99a3",
   "metadata": {},
   "outputs": [
    {
     "name": "stdout",
     "output_type": "stream",
     "text": [
      "12\n",
      "2\n",
      "2\n",
      "3\n"
     ]
    }
   ],
   "source": [
    "x = int(input())\n",
    "\n",
    "i = 2\n",
    "while x!=1:\n",
    "    if x%i == 0:\n",
    "        x = x/i\n",
    "        print(i)\n",
    "    else:\n",
    "        i+=1"
   ]
  },
  {
   "cell_type": "markdown",
   "id": "bafdb06b",
   "metadata": {},
   "source": [
    "# GCD, LCM"
   ]
  },
  {
   "cell_type": "code",
   "execution_count": 84,
   "id": "c5a29cb9",
   "metadata": {},
   "outputs": [
    {
     "name": "stdout",
     "output_type": "stream",
     "text": [
      "6 21\n",
      "3\n",
      "42\n"
     ]
    }
   ],
   "source": [
    "a, b = map(int, input().split())\n",
    "\n",
    "def gcd(a, b):\n",
    "    while b>0:\n",
    "        a, b = b, a%b\n",
    "    return a\n",
    "\n",
    "def lcm(a, b):\n",
    "    return a*b // gcd(a, b)\n",
    "\n",
    "print(gcd(a, b))\n",
    "print(lcm(a, b))"
   ]
  },
  {
   "cell_type": "markdown",
   "id": "1f80b703",
   "metadata": {},
   "source": [
    "# Prime"
   ]
  },
  {
   "cell_type": "code",
   "execution_count": 57,
   "id": "9d4357b1",
   "metadata": {},
   "outputs": [
    {
     "name": "stdout",
     "output_type": "stream",
     "text": [
      "23\n",
      "True\n"
     ]
    }
   ],
   "source": [
    "n = int(input())\n",
    "\n",
    "prime = True\n",
    "if n>1:\n",
    "    for i in range(2, int(n**0.5)+1):\n",
    "        if n%i==0:\n",
    "            prime = False\n",
    "            break\n",
    "            \n",
    "print(prime)"
   ]
  },
  {
   "cell_type": "code",
   "execution_count": 59,
   "id": "b06d594d",
   "metadata": {},
   "outputs": [
    {
     "name": "stdout",
     "output_type": "stream",
     "text": [
      "15\n",
      "[False, False, True, True, False, True, False, True, False, False, False, True, False, True, False, False]\n"
     ]
    }
   ],
   "source": [
    "n = int(input())\n",
    "\n",
    "l = [False, False] + [True]*(n-1)\n",
    "\n",
    "for i in range(2, int(n**0.5)+1):\n",
    "    if l[i]:\n",
    "        for j in range(2*i, n+1, i): \n",
    "            # if 2 is a prime number, then multiples of 2 \n",
    "            # can't possibly be a prime number\n",
    "            l[j] = False\n",
    "            \n",
    "print(l)"
   ]
  },
  {
   "cell_type": "markdown",
   "id": "c610c1da",
   "metadata": {},
   "source": [
    "# Fibonacci"
   ]
  },
  {
   "cell_type": "code",
   "execution_count": 29,
   "id": "0c9845b5",
   "metadata": {},
   "outputs": [
    {
     "name": "stdout",
     "output_type": "stream",
     "text": [
      "10\n",
      "55\n"
     ]
    }
   ],
   "source": [
    "def fib(x):\n",
    "    a, b = 0, 1\n",
    "    for i in range(0, x):\n",
    "        a, b = b, a+b\n",
    "        \n",
    "    return a\n",
    "\n",
    "a = int(input())\n",
    "print(fib(a))"
   ]
  },
  {
   "cell_type": "code",
   "execution_count": 31,
   "id": "6b9f8a9b",
   "metadata": {},
   "outputs": [
    {
     "name": "stdout",
     "output_type": "stream",
     "text": [
      "10\n",
      "55\n"
     ]
    }
   ],
   "source": [
    "def fib(x):\n",
    "    if x<=1:\n",
    "        return x\n",
    "    else:\n",
    "        return fib(x-1) + fib(x-2)\n",
    "    \n",
    "a = int(input())\n",
    "print(fib(a))"
   ]
  },
  {
   "cell_type": "code",
   "execution_count": 83,
   "id": "6e24ad27",
   "metadata": {},
   "outputs": [
    {
     "name": "stdout",
     "output_type": "stream",
     "text": [
      "10\n",
      "55\n"
     ]
    }
   ],
   "source": [
    "dp = [0] * 1000\n",
    "\n",
    "def fib(x):\n",
    "    if dp[x]:\n",
    "        return dp[x]\n",
    "    if x==0:\n",
    "        return 0\n",
    "    if x==1:\n",
    "        return 1\n",
    "    dp[x] = fib(x-1) + fib(x-2)\n",
    "    \n",
    "    return dp[x]\n",
    "\n",
    "a = int(input())\n",
    "print(fib(a))"
   ]
  },
  {
   "cell_type": "markdown",
   "id": "625119bf",
   "metadata": {},
   "source": [
    "# Factorial"
   ]
  },
  {
   "cell_type": "code",
   "execution_count": 24,
   "id": "fc3b68a6",
   "metadata": {},
   "outputs": [
    {
     "name": "stdout",
     "output_type": "stream",
     "text": [
      "10\n",
      "3628800\n"
     ]
    }
   ],
   "source": [
    "def fac(x):\n",
    "    r = 1\n",
    "    for i in range(1, x+1):\n",
    "        r *= i\n",
    "        \n",
    "    return r\n",
    "\n",
    "a = int(input())\n",
    "print(fac(a))"
   ]
  },
  {
   "cell_type": "code",
   "execution_count": 30,
   "id": "36d1b03a",
   "metadata": {},
   "outputs": [
    {
     "name": "stdout",
     "output_type": "stream",
     "text": [
      "10\n",
      "3628800\n"
     ]
    }
   ],
   "source": [
    "def fac(x):\n",
    "    if x<=1:\n",
    "        return 1\n",
    "    else:\n",
    "        return x * fac(x-1)\n",
    "\n",
    "a = int(input())\n",
    "print(fac(a))"
   ]
  },
  {
   "cell_type": "code",
   "execution_count": 85,
   "id": "1fa2c54a",
   "metadata": {},
   "outputs": [
    {
     "name": "stdout",
     "output_type": "stream",
     "text": [
      "10\n",
      "3628800\n"
     ]
    }
   ],
   "source": [
    "dp = [0] * 1000\n",
    "\n",
    "def fac(x):\n",
    "    if dp[x]:\n",
    "        return dp[x]\n",
    "    if x==0:\n",
    "        return 1\n",
    "    dp[x] = x * fac(x-1)\n",
    "    \n",
    "    return dp[x]\n",
    "\n",
    "a = int(input())\n",
    "print(fac(a))"
   ]
  },
  {
   "cell_type": "markdown",
   "id": "b13a6223",
   "metadata": {},
   "source": [
    "# Hanoi"
   ]
  },
  {
   "cell_type": "code",
   "execution_count": 66,
   "id": "bc0b2c9d",
   "metadata": {},
   "outputs": [
    {
     "name": "stdout",
     "output_type": "stream",
     "text": [
      "3\n",
      "1 3\n",
      "1 2\n",
      "3 2\n",
      "1 3\n",
      "2 1\n",
      "2 3\n",
      "1 3\n",
      "7\n"
     ]
    }
   ],
   "source": [
    "n = int(input())\n",
    "\n",
    "def hanoi(n, a, b, c):\n",
    "    if n == 1:\n",
    "        print(a, c)\n",
    "    else:\n",
    "        hanoi(n-1, a, c, b) # n-1개의 원반을 a에서 b로\n",
    "        print(a, c) # 마지막 원반을 a에서 c로\n",
    "        hanoi(n-1, b, a, c) # n-1개의 원반을 b에서 c로\n",
    "        \n",
    "hanoi(n, 1, 2, 3)\n",
    "\n",
    "print(2**n-1)"
   ]
  },
  {
   "cell_type": "markdown",
   "id": "1f236e0d",
   "metadata": {},
   "source": [
    "# Sort"
   ]
  },
  {
   "cell_type": "markdown",
   "id": "20a49cc8",
   "metadata": {},
   "source": [
    "### Bubble sort: 인접 element끼리 swap\n",
    "\n",
    "$O(n^2)$"
   ]
  },
  {
   "cell_type": "code",
   "execution_count": 110,
   "id": "f3de5846",
   "metadata": {},
   "outputs": [
    {
     "name": "stdout",
     "output_type": "stream",
     "text": [
      "[9, 8, 7, 6, 5, 4, 3, 2, 1, 0]\n",
      "[0, 1, 2, 3, 4, 5, 6, 7, 8, 9]\n"
     ]
    }
   ],
   "source": [
    "l = [i for i in range(9, -1, -1)]\n",
    "print(l)\n",
    "\n",
    "def bubble_sort(l):\n",
    "    for i in range(len(l)-1): # sort completed in the penultimate iteration\n",
    "        for j in range(len(l)-i-1): # -i because i elements in the right are already sorted\n",
    "            if l[j] > l[j+1]:\n",
    "                l[j], l[j+1] = l[j+1], l[j]\n",
    "                \n",
    "bubble_sort(l)\n",
    "print(l)"
   ]
  },
  {
   "cell_type": "markdown",
   "id": "818f1377",
   "metadata": {},
   "source": [
    "### Selection sort: 최솟값 찾아 맨 앞으로 보냄\n",
    "\n",
    "$O(n^2)$"
   ]
  },
  {
   "cell_type": "code",
   "execution_count": 111,
   "id": "f7181d02",
   "metadata": {},
   "outputs": [
    {
     "name": "stdout",
     "output_type": "stream",
     "text": [
      "[9, 8, 7, 6, 5, 4, 3, 2, 1, 0]\n",
      "[0, 1, 2, 3, 4, 5, 6, 7, 8, 9]\n"
     ]
    }
   ],
   "source": [
    "l = [i for i in range(9, -1, -1)]\n",
    "print(l)\n",
    "\n",
    "def selection_sort(l):\n",
    "    for i in range(len(l)-1):\n",
    "        min_idx = i\n",
    "        for j in range(i+1, len(l)):\n",
    "            if l[j] < l[min_idx]:\n",
    "                min_idx = j\n",
    "        l[i], l[min_idx] = l[min_idx], l[i]\n",
    "        \n",
    "selection_sort(l)\n",
    "print(l)"
   ]
  },
  {
   "cell_type": "markdown",
   "id": "7ac50703",
   "metadata": {},
   "source": [
    "최댓값 찾아 맨 뒤로 보냄"
   ]
  },
  {
   "cell_type": "code",
   "execution_count": 112,
   "id": "3c0e1452",
   "metadata": {},
   "outputs": [
    {
     "name": "stdout",
     "output_type": "stream",
     "text": [
      "[9, 8, 7, 6, 5, 4, 3, 2, 1, 0]\n",
      "[0, 1, 2, 3, 4, 5, 6, 7, 8, 9]\n"
     ]
    }
   ],
   "source": [
    "l = [i for i in range(9, -1, -1)]\n",
    "print(l)\n",
    "\n",
    "def selection_sort(l):\n",
    "    for i in range(len(l)-1, -1, -1):\n",
    "        max_idx = i\n",
    "        for j in range(i):\n",
    "            if l[j] > l[max_idx]:\n",
    "                max_idx = j\n",
    "        l[i], l[max_idx] = l[max_idx], l[i]\n",
    "        \n",
    "selection_sort(l)\n",
    "print(l)"
   ]
  },
  {
   "cell_type": "markdown",
   "id": "392ef937",
   "metadata": {},
   "source": [
    "### Insertion sort: 오른쪽으로 한칸씩 진출하면서 알맞은 자리에 꽂아넣음\n",
    "\n",
    "Worst: $O(n^2)$, Average: $O(n^2)$, Best: $O(n)$"
   ]
  },
  {
   "cell_type": "code",
   "execution_count": 113,
   "id": "746523fc",
   "metadata": {},
   "outputs": [
    {
     "name": "stdout",
     "output_type": "stream",
     "text": [
      "[9, 8, 7, 6, 5, 4, 3, 2, 1, 0]\n",
      "[0, 1, 2, 3, 4, 5, 6, 7, 8, 9]\n"
     ]
    }
   ],
   "source": [
    "l = [i for i in range(9, -1, -1)]\n",
    "print(l)\n",
    "\n",
    "def insertion_sort(l):\n",
    "    for i in range(1, len(l)):\n",
    "        for j in range(i, 0, -1):\n",
    "            if l[j-1]>l[j]:\n",
    "                l[j-1], l[j] = l[j], l[j-1]\n",
    "                \n",
    "insertion_sort(l)\n",
    "print(l)"
   ]
  },
  {
   "cell_type": "markdown",
   "id": "711b6869",
   "metadata": {},
   "source": [
    "### Merge sort: merging two sorted lists, over and over\n",
    "\n",
    "$O(n \\log n)$"
   ]
  },
  {
   "cell_type": "code",
   "execution_count": 114,
   "id": "e07b9cc2",
   "metadata": {},
   "outputs": [
    {
     "name": "stdout",
     "output_type": "stream",
     "text": [
      "[9, 8, 7, 6, 5, 4, 3, 2, 1, 0]\n",
      "[0, 1, 2, 3, 4, 5, 6, 7, 8, 9]\n"
     ]
    }
   ],
   "source": [
    "l = [i for i in range(9, -1, -1)]\n",
    "print(l)\n",
    "\n",
    "def merge_sort(l):\n",
    "    if len(l)==1:\n",
    "        return l\n",
    "    \n",
    "    mid = len(l)//2\n",
    "    left = merge_sort(l[:mid])\n",
    "    right = merge_sort(l[mid:])\n",
    "    return merge(left, right)\n",
    "    \n",
    "def merge(left, right):\n",
    "    output = []\n",
    "    i = j = 0 # pointers for `left` and `right`\n",
    "    \n",
    "    while i<len(left) and j<len(right):\n",
    "        if left[i] < right[j]:\n",
    "            output.append(left[i])\n",
    "            i+=1\n",
    "        else:\n",
    "            output.append(right[j])\n",
    "            j+=1     \n",
    "    output.extend(left[i:])\n",
    "    output.extend(right[j:])\n",
    "    \n",
    "    return output\n",
    "\n",
    "l = merge_sort(l)\n",
    "print(l)"
   ]
  },
  {
   "cell_type": "markdown",
   "id": "c02e880f",
   "metadata": {},
   "source": [
    "### Quick sort: pivot 골라서 pivot보다 작으면 왼쪽, 크면 오른쪽\n",
    "\n",
    "Worst: $O(n^2)$, Average: $O(n \\log n)$, Best: $O(n \\log n)$"
   ]
  },
  {
   "cell_type": "code",
   "execution_count": 115,
   "id": "b7a8190a",
   "metadata": {},
   "outputs": [
    {
     "name": "stdout",
     "output_type": "stream",
     "text": [
      "[2, 7, 1, 3, 6, 5, 4]\n",
      "[1, 2, 3, 4, 5, 6, 7]\n"
     ]
    }
   ],
   "source": [
    "l = [2, 7, 1, 3, 6, 5, 4]\n",
    "print(l)\n",
    "\n",
    "def quick_sort(l, first, last): # index of the first and last element\n",
    "    if first < last:\n",
    "        pivot = partition(l, first, last)\n",
    "        quick_sort(l, first, pivot-1)\n",
    "        quick_sort(l, pivot+1, last)\n",
    "        \n",
    "def partition(l, first, last):\n",
    "    pivot = l[last]\n",
    "    j = first\n",
    "    \n",
    "    # pivot보다 l[i]가 크면 j를 그 element에 고정하고 swap 없이 다음 i로 넘어감\n",
    "    # pivot보다 l[i]가 작으면 l[i]와 l[j] swap하고 j+=1\n",
    "    # 마지막에 j와 pivot도 swap\n",
    "    # j는 항상 pivot보다 큰 첫번째 element의 index\n",
    "    for i in range(first, last):\n",
    "        if l[i] < pivot:\n",
    "            l[j], l[i] = l[i], l[j]\n",
    "            j = j+1\n",
    "            \n",
    "    l[j], l[last] = l[last], l[j]\n",
    "    return j\n",
    "\n",
    "quick_sort(l, 0, len(l)-1)\n",
    "print(l)"
   ]
  },
  {
   "cell_type": "markdown",
   "id": "6e12f7de",
   "metadata": {},
   "source": [
    "```python\n",
    "e.g. 2713654\n",
    "i=0            ->1->2            ->3            ->4->5\n",
    "j=0->2713654->1      ->2173654->2   ->2137654->3      ->2134657\n",
    "```"
   ]
  },
  {
   "cell_type": "markdown",
   "id": "8e62b95d",
   "metadata": {},
   "source": [
    "일반적으로 원소의 갯수가 적어질수록 나쁜 pivot이 선택될 확률이 높아지므로 원소의 갯수에 따라 다른 정렬을 혼합해 사용함."
   ]
  },
  {
   "cell_type": "markdown",
   "id": "be31ae15",
   "metadata": {},
   "source": [
    "### Heap sort: max heap 구성 -> 루트 노드 제거\n",
    "\n",
    "$O(n \\log n)$"
   ]
  },
  {
   "cell_type": "code",
   "execution_count": 22,
   "id": "598adda8",
   "metadata": {},
   "outputs": [
    {
     "name": "stdout",
     "output_type": "stream",
     "text": [
      "[6, 7, 4, 2, 3, 1, 0, 9, 8, 5]\n",
      "[0, 1, 2, 3, 4, 5, 6, 7, 8, 9]\n"
     ]
    }
   ],
   "source": [
    "import random\n",
    "l = [i for i in range(10)]\n",
    "random.shuffle(l)\n",
    "print(l)\n",
    "\n",
    "def heap_sort(l):\n",
    "    for i in range((len(l)//2)-1, -1, -1): # build max heap\n",
    "        heapify(l, i, len(l))\n",
    "        \n",
    "    for i in range(len(l)-1, 0, -1): # 최댓값 찾아 맨 뒤로 보냄\n",
    "        l[0], l[i] = l[i], l[0]\n",
    "        heapify(l, 0, i)\n",
    "            \n",
    "def heapify(l, parent, length):\n",
    "    largest = parent # parent node index\n",
    "    left = 2*parent+1 # left child node index\n",
    "    right = 2*parent+2 # right child node index\n",
    "    \n",
    "    if left<length and l[left]>l[largest]: # max heap을 만족하지 않으면\n",
    "        largest = left # largest node index를 바꿈\n",
    "    if right<length and l[right]>l[largest]: # max heap을 만족하지 않으면\n",
    "        largest = right # largest node index를 바꿈\n",
    "        \n",
    "    if largest != parent: # largest node index가 바뀌었다면\n",
    "        l[largest], l[parent] = l[parent], l[largest] # 기존 parent와 swap\n",
    "        heapify(l, largest, length) # largest--하지만 swap 후 더 이상 최댓값을 가리키지 않고 child nodes중 하나가 된--를 parent로 다시 heapify\n",
    "        # 재귀로 list 전체를 max heap화 함\n",
    "        # element를 swap했을 뿐 largest의 index는 그대로이기 때문\n",
    "    \n",
    "heap_sort(l)\n",
    "print(l)"
   ]
  },
  {
   "cell_type": "markdown",
   "id": "c55d5ebb",
   "metadata": {},
   "source": [
    "### Counting sort: count[l[i]]-1은 l[i]이 위치할 수 있는 최대 인덱스\n",
    "\n",
    "$O(n+k)$"
   ]
  },
  {
   "cell_type": "code",
   "execution_count": 27,
   "id": "112fa4c2",
   "metadata": {},
   "outputs": [
    {
     "name": "stdout",
     "output_type": "stream",
     "text": [
      "[4, 2, 2, 8, 3, 3, 1]\n",
      "[1, 2, 2, 3, 3, 4, 8]\n"
     ]
    }
   ],
   "source": [
    "l = [4, 2, 2, 8, 3, 3, 1]\n",
    "print(l)\n",
    "\n",
    "def counting_sort(l):\n",
    "    output = [0] * len(l)\n",
    "    count = [0] * (max(l)+1)\n",
    "    \n",
    "    # count\n",
    "    for i in l:\n",
    "        count[i]+=1\n",
    "    \n",
    "    # cumulative count\n",
    "    for i in range(max(l)):\n",
    "        count[i+1]+=count[i]\n",
    "    # print(count)\n",
    "    # [0, 1, 3, 5, 6, 6, 6, 6, 7] \n",
    "    \n",
    "    # i: reversed l\n",
    "    for i in reversed(range(len(l))):\n",
    "        output[count[l[i]]-1] = l[i] # output 리스트에 l[i]이 들어갈 수 있는 최대 인덱스는 count[l[i]]-1 \n",
    "        count[l[i]]-=1 # 방금 l[i]을 올바른 인덱스에 넣었으므로 다음 l[i]은 그것보다 하나 작은 인덱스에 넣어야 됨\n",
    "    \n",
    "    return output\n",
    "\n",
    "l = counting_sort(l)\n",
    "print(l)"
   ]
  },
  {
   "cell_type": "markdown",
   "id": "22bda059",
   "metadata": {},
   "source": [
    "### Radix sort: decimal place 올려가면서 l->buckets, buckets->l\n",
    "\n",
    "$O(d*(n+k))$"
   ]
  },
  {
   "cell_type": "code",
   "execution_count": 7,
   "id": "e834262e",
   "metadata": {},
   "outputs": [
    {
     "name": "stdout",
     "output_type": "stream",
     "text": [
      "[152, 73, 69, 41, 28, 1247, 2, 33, 674, 388]\n",
      "[2, 28, 33, 41, 69, 73, 152, 388, 674, 1247]\n"
     ]
    }
   ],
   "source": [
    "l = [152, 73, 69, 41, 28, 1247, 2, 33, 674, 388]\n",
    "print(l)\n",
    "\n",
    "def radix_sort(l):\n",
    "    # 해당 digit의 숫자(0-9)에 따라 담아놓을 queue들\n",
    "    buckets = [[] for _ in range(10)]\n",
    "    \n",
    "    max_ = max(l)\n",
    "    decimal = 1 # decimal place to examine\n",
    "    \n",
    "    while max_ >= decimal:\n",
    "        while l: # l에서 빼서 corresponding한 bucket들로 이동\n",
    "            i = l.pop(0)\n",
    "            buckets[(i//decimal)%10].append(i)\n",
    "            \n",
    "        for bucket in buckets: # bucket들에서 순서대로 빼서 l로 이동\n",
    "            while bucket:\n",
    "                l.append(bucket.pop(0))\n",
    "                \n",
    "        decimal*=10\n",
    "        \n",
    "radix_sort(l)\n",
    "print(l)"
   ]
  },
  {
   "cell_type": "code",
   "execution_count": 119,
   "id": "243ef743",
   "metadata": {},
   "outputs": [
    {
     "name": "stdout",
     "output_type": "stream",
     "text": [
      "[152, 73, 69, 41, 28, 1247, 2, 33, 674, 388]\n",
      "[2, 28, 33, 41, 69, 73, 152, 388, 674, 1247]\n"
     ]
    }
   ],
   "source": [
    "l = [152, 73, 69, 41, 28, 1247, 2, 33, 674, 388]\n",
    "print(l)\n",
    "\n",
    "from collections import deque\n",
    "\n",
    "def radix_sort(l):\n",
    "    # 해당 digit의 숫자(0-9)에 따라 담아놓을 deque들\n",
    "    buckets = [deque() for _ in range(10)]\n",
    "    \n",
    "    max_ = max(l)\n",
    "    lq = deque(l)\n",
    "    decimal = 1 # decimal place to examine\n",
    "    \n",
    "    while max_ >= decimal:\n",
    "        while lq: # lq에서 빼서 corresponding한 bucket들로 이동\n",
    "            i = lq.popleft()\n",
    "            buckets[(i//decimal)%10].append(i)\n",
    "            \n",
    "        for bucket in buckets: # bucket들에서 순서대로 빼서 lq로 이동\n",
    "            while bucket:\n",
    "                lq.append(bucket.popleft())\n",
    "                \n",
    "        decimal*=10\n",
    "        \n",
    "    return list(lq)\n",
    "\n",
    "l = radix_sort(l)\n",
    "print(l)"
   ]
  },
  {
   "cell_type": "markdown",
   "id": "d92df661",
   "metadata": {},
   "source": [
    "# Graph"
   ]
  },
  {
   "cell_type": "markdown",
   "id": "09f622f0",
   "metadata": {},
   "source": [
    "## Traversal"
   ]
  },
  {
   "cell_type": "code",
   "execution_count": 43,
   "id": "61ab5998",
   "metadata": {},
   "outputs": [],
   "source": [
    "graph = [\n",
    "    [],\n",
    "    [2, 3, 8], # 1\n",
    "    [1, 7],    # 2\n",
    "    [1, 4, 5], # 3\n",
    "    [3, 5],    # 4\n",
    "    [3, 4],    # 5\n",
    "    [7],       # 6\n",
    "    [2, 6, 8], # 7\n",
    "    [1, 7]     # 8\n",
    "]"
   ]
  },
  {
   "cell_type": "markdown",
   "id": "bae2afb0",
   "metadata": {},
   "source": [
    "### DFS: stack-recursion"
   ]
  },
  {
   "cell_type": "code",
   "execution_count": 46,
   "id": "ba5d762e",
   "metadata": {},
   "outputs": [
    {
     "name": "stdout",
     "output_type": "stream",
     "text": [
      "1 2 7 6 8 3 4 5 "
     ]
    }
   ],
   "source": [
    "def dfs(graph, node, visited): \n",
    "    visited[node] = True\n",
    "    print(node, end=' ')\n",
    "    \n",
    "    for i in graph[node]:\n",
    "        if not visited[i]:\n",
    "            dfs(graph, i, visited)\n",
    "\n",
    "visited = [False] * len(graph)\n",
    "\n",
    "dfs(graph, 1, visited)"
   ]
  },
  {
   "cell_type": "markdown",
   "id": "bb37a683",
   "metadata": {},
   "source": [
    "### BFS: queue"
   ]
  },
  {
   "cell_type": "code",
   "execution_count": 47,
   "id": "373780d4",
   "metadata": {},
   "outputs": [
    {
     "name": "stdout",
     "output_type": "stream",
     "text": [
      "1 2 3 8 7 4 5 6 "
     ]
    }
   ],
   "source": [
    "from collections import deque\n",
    "\n",
    "def bfs(graph, node, visited):\n",
    "    q = deque([node])\n",
    "    visited[node] = True\n",
    "    \n",
    "    while q:\n",
    "        node = q.popleft()\n",
    "        print(node, end=' ')\n",
    "        \n",
    "        for i in graph[node]:\n",
    "            if not visited[i]:\n",
    "                q.append(i)\n",
    "                visited[i] = True\n",
    "                \n",
    "visited = [False] * len(graph)\n",
    "\n",
    "bfs(graph, 1, visited)"
   ]
  },
  {
   "cell_type": "markdown",
   "id": "43ea6ce8",
   "metadata": {},
   "source": [
    "## Shortest path"
   ]
  },
  {
   "cell_type": "markdown",
   "id": "0010ab96",
   "metadata": {},
   "source": [
    "### Dijkstra: 한 노드에서 다른 모든 노드까지의 최단거리\n",
    "\n",
    "한 번 선택된 노드는 최단거리가 감소하지 않음"
   ]
  },
  {
   "cell_type": "code",
   "execution_count": 14,
   "id": "a507ea05",
   "metadata": {},
   "outputs": [],
   "source": [
    "nodes = 6\n",
    "edges = 11\n",
    "start = 1\n",
    "graph = [\n",
    "    [], \n",
    "    [(2, 2), (3, 5), (4, 1)], # 1 (node, cost)\n",
    "    [(3, 3), (4, 2)],         # 2 \n",
    "    [(2, 3), (6, 5)],         # 3\n",
    "    [(3, 3), (5, 1)],         # 4\n",
    "    [(3, 1), (6, 2)],         # 5\n",
    "    []                        # 6\n",
    "]"
   ]
  },
  {
   "cell_type": "markdown",
   "id": "d1ea719a",
   "metadata": {},
   "source": [
    "$O(N^2)$"
   ]
  },
  {
   "cell_type": "code",
   "execution_count": 15,
   "id": "0ed9471b",
   "metadata": {},
   "outputs": [
    {
     "name": "stdout",
     "output_type": "stream",
     "text": [
      "node 1: cost 0\n",
      "node 2: cost 2\n",
      "node 3: cost 3\n",
      "node 4: cost 1\n",
      "node 5: cost 2\n",
      "node 6: cost 4\n"
     ]
    }
   ],
   "source": [
    "def dijkstra(start):\n",
    "    distance[start] = 0\n",
    "    visited[start] = True\n",
    "    \n",
    "    for i in graph[start]:\n",
    "        distance[i[0]] = i[1]\n",
    "    \n",
    "    for _ in range(nodes-1): # 시작 노드를 제외한 나머지 nodes-1개의 노드에 대해 반복\n",
    "        node = shortest_path_node() # 방문하지 않은 노드 중 distance가 가장 작은 노드 리턴\n",
    "        visited[node] = True\n",
    "        \n",
    "        for i in graph[node]:\n",
    "            cost = distance[node] + i[1] # 현재 노드를 거쳐서 갈 때의 cost가\n",
    "            if cost<distance[i[0]]: # 기존 cost보다 작은 경우\n",
    "                distance[i[0]] = cost\n",
    "\n",
    "def shortest_path_node():\n",
    "    min_ = int(1e9)\n",
    "    node = 0\n",
    "    \n",
    "    for i in range(1, nodes+1):\n",
    "        if distance[i]<min_ and not visited[i]:\n",
    "            min_ = distance[i]\n",
    "            node = i\n",
    "    \n",
    "    return node\n",
    "\n",
    "visited = [False] * (nodes+1)\n",
    "distance = [int(1e9)] * (nodes+1)\n",
    "\n",
    "dijkstra(start)\n",
    "\n",
    "for i in range(1, nodes+1):\n",
    "    print(f'node {i}: cost {distance[i]}')"
   ]
  },
  {
   "cell_type": "markdown",
   "id": "70195314",
   "metadata": {},
   "source": [
    "$O(E\\log N)$"
   ]
  },
  {
   "cell_type": "code",
   "execution_count": 16,
   "id": "f0bd067c",
   "metadata": {},
   "outputs": [
    {
     "name": "stdout",
     "output_type": "stream",
     "text": [
      "node 1: cost 0\n",
      "node 2: cost 2\n",
      "node 3: cost 3\n",
      "node 4: cost 1\n",
      "node 5: cost 2\n",
      "node 6: cost 4\n"
     ]
    }
   ],
   "source": [
    "import heapq # priority queue; min heap by default; (weight, value)\n",
    "\n",
    "# heapq를 사용하면서 shortest_path_node() 부분이 필요없어짐\n",
    "def dijkstra(start):\n",
    "    q = []\n",
    "    heapq.heappush(q, (0, start))\n",
    "    distance[start] = 0\n",
    "    \n",
    "    while q:\n",
    "        dist, node = heapq.heappop(q)\n",
    "        \n",
    "        if distance[node]<dist:\n",
    "            continue\n",
    "        \n",
    "        for i in graph[node]:\n",
    "            cost = dist + i[1] # 현재 노드를 거쳐서 갈 때의 cost가\n",
    "            if cost<distance[i[0]]: # 기존 cost보다 작은 경우\n",
    "                distance[i[0]] = cost\n",
    "                heapq.heappush(q, (cost, i[0]))\n",
    "\n",
    "visited = [False] * (nodes+1)\n",
    "distance = [int(1e9)] * (nodes+1)\n",
    "\n",
    "dijkstra(start)\n",
    "\n",
    "for i in range(1, nodes+1):\n",
    "    print(f'node {i}: cost {distance[i]}')"
   ]
  },
  {
   "cell_type": "markdown",
   "id": "3da5e7d4",
   "metadata": {},
   "source": [
    "### Bellman-Ford: 음의 가중치를 가진 간선이 존재할 때\n",
    "\n",
    "다익스트라와의 차이점은 매 반복마다 모든 간선을 확인한다는 것 (다익스트라는 방문하지 않은 노드 중 최단거리가 가장 가까운 노드만을 방문)\n",
    "\n",
    "$O(N \\cdot E)$"
   ]
  },
  {
   "cell_type": "code",
   "execution_count": 13,
   "id": "1da56a81",
   "metadata": {},
   "outputs": [
    {
     "name": "stdout",
     "output_type": "stream",
     "text": [
      "5\n",
      "8\n",
      "1 2 -4\n",
      "1 3 5\n",
      "1 4 2\n",
      "1 5 3\n",
      "2 4 -1\n",
      "3 4 -7\n",
      "4 5 6\n",
      "5 4 -4\n",
      "-4 5 -5 1 "
     ]
    }
   ],
   "source": [
    "nodes = int(input())\n",
    "edges = int(input())\n",
    "start = 1\n",
    "graph = []\n",
    "distance = [int(1e9)] * (nodes+1)\n",
    "\n",
    "for _ in range(edges):\n",
    "    a, b, c = map(int, input().split())\n",
    "    graph.append((a, b, c))\n",
    "    \n",
    "def bellman_ford(start):\n",
    "    distance[start] = 0\n",
    "    for i in range(nodes):\n",
    "        for j in range(edges):\n",
    "            a = graph[j][0]\n",
    "            b = graph[j][1]\n",
    "            c = graph[j][2]\n",
    "            \n",
    "            if distance[a]!=int(1e9) and distance[b] > distance[a]+c:\n",
    "                distance[b] = distance[a]+c\n",
    "                \n",
    "                if i==nodes-1: # n-1번 이후 반복에도 값이 갱신되면 음수 순환 존재\n",
    "                    return True\n",
    "                \n",
    "    return False\n",
    "\n",
    "if bellman_ford(start):\n",
    "    print(\"negative cycle found\")\n",
    "else:\n",
    "    for i in range(2, nodes+1):\n",
    "        print(distance[i], end=\" \")    "
   ]
  },
  {
   "cell_type": "markdown",
   "id": "96d13d85",
   "metadata": {},
   "source": [
    "### Floyd-Warshall: 모든 노드에서 다른 모든 노드까지의 최단거리\n",
    "\n",
    "$O(N^3)$: N개의 노드에 대해 N*N 2차원 리스트 갱신"
   ]
  },
  {
   "cell_type": "code",
   "execution_count": 21,
   "id": "cb62c017",
   "metadata": {},
   "outputs": [
    {
     "name": "stdout",
     "output_type": "stream",
     "text": [
      "4\n",
      "7\n",
      "1 2 4\n",
      "1 4 6\n",
      "2 1 3\n",
      "2 3 7\n",
      "3 1 5\n",
      "3 4 4\n",
      "4 3 2\n",
      "0 4 8 6 \n",
      "3 0 7 9 \n",
      "5 9 0 4 \n",
      "7 11 2 0 \n"
     ]
    }
   ],
   "source": [
    "nodes = int(input())\n",
    "edges = int(input())\n",
    "# N개의 노드에 대해 N*N 2차원 리스트 생성\n",
    "# row는 출발인 경우, col은 도착인 경우\n",
    "graph = [[int(1e9)] * (nodes+1) for _ in range(nodes+1)] \n",
    "# 자기 자신에 대한 cost는 0\n",
    "for a in range(1, nodes+1):\n",
    "    for b in range(1, nodes+1):\n",
    "        if a==b:\n",
    "            graph[a][b] = 0\n",
    "            \n",
    "for _ in range(edges):\n",
    "    a, b, c = map(int, input().split())\n",
    "    graph[a][b] = c\n",
    "    \n",
    "for i in range(1, nodes+1):\n",
    "    for a in range(1, nodes+1):\n",
    "        for b in range(1, nodes+1):\n",
    "            # AB = min((A->B), (A->현재 확인하고 있는 노드->B))\n",
    "            graph[a][b] = min(graph[a][b], graph[a][i]+graph[i][b])\n",
    "\n",
    "for a in range(1, nodes+1):\n",
    "    for b in range(1, nodes+1):\n",
    "        print(graph[a][b], end=\" \")\n",
    "    print()"
   ]
  },
  {
   "cell_type": "markdown",
   "id": "e5e689f2",
   "metadata": {},
   "source": [
    "## Minimum Spanning Tree\n",
    "\n",
    "최소 연결 부분 그래프 (노드의 수가 n 일때 n-1개의 간선을 갖는 그래프) 중 간선 가중치의 합이 최소인 그래프"
   ]
  },
  {
   "cell_type": "markdown",
   "id": "e0597a65",
   "metadata": {},
   "source": [
    "### Prim: MST for dense graph\n",
    "\n",
    "인접 노드 중 최소 가중치로 연결된 노드 선택"
   ]
  },
  {
   "cell_type": "code",
   "execution_count": 75,
   "id": "237f5b32",
   "metadata": {},
   "outputs": [],
   "source": [
    "graph = [\n",
    "    [1, 2, 6],\n",
    "    [1, 3, 3],\n",
    "    [2, 3, 2],\n",
    "    [2, 4, 5],\n",
    "    [3, 4, 3],\n",
    "    [3, 5, 4],\n",
    "    [4, 5, 2],\n",
    "    [4, 6, 3],\n",
    "    [5, 6, 5]\n",
    "]"
   ]
  },
  {
   "cell_type": "code",
   "execution_count": 76,
   "id": "2c121130",
   "metadata": {},
   "outputs": [
    {
     "data": {
      "text/plain": [
       "{1: [[1, 2, 6], [1, 3, 3]],\n",
       " 2: [[2, 1, 6], [2, 3, 2], [2, 4, 5]],\n",
       " 3: [[3, 1, 3], [3, 2, 2], [3, 4, 3], [3, 5, 4]],\n",
       " 4: [[4, 2, 5], [4, 3, 3], [4, 5, 2], [4, 6, 3]],\n",
       " 5: [[5, 3, 4], [5, 4, 2], [5, 6, 5]],\n",
       " 6: [[6, 4, 3], [6, 5, 5]]}"
      ]
     },
     "execution_count": 76,
     "metadata": {},
     "output_type": "execute_result"
    }
   ],
   "source": [
    "undirected_graph = {}\n",
    "for i in graph:\n",
    "    a, b, c = i\n",
    "    if a in undirected_graph:\n",
    "        undirected_graph[a].append([a, b, c])\n",
    "    else:\n",
    "        undirected_graph[a] = [[a, b, c]]\n",
    "    if b in undirected_graph:\n",
    "        undirected_graph[b].append([b, a, c])\n",
    "    else:\n",
    "        undirected_graph[b] = [[b, a, c]]\n",
    "\n",
    "undirected_graph"
   ]
  },
  {
   "cell_type": "code",
   "execution_count": 77,
   "id": "a899202f",
   "metadata": {},
   "outputs": [
    {
     "data": {
      "text/plain": [
       "defaultdict(list,\n",
       "            {1: [[1, 2, 6], [1, 3, 3]],\n",
       "             2: [[2, 1, 6], [2, 3, 2], [2, 4, 5]],\n",
       "             3: [[3, 1, 3], [3, 2, 2], [3, 4, 3], [3, 5, 4]],\n",
       "             4: [[4, 2, 5], [4, 3, 3], [4, 5, 2], [4, 6, 3]],\n",
       "             5: [[5, 3, 4], [5, 4, 2], [5, 6, 5]],\n",
       "             6: [[6, 4, 3], [6, 5, 5]]})"
      ]
     },
     "execution_count": 77,
     "metadata": {},
     "output_type": "execute_result"
    }
   ],
   "source": [
    "import collections\n",
    "\n",
    "undirected_graph = collections.defaultdict(list)\n",
    "for i in graph:\n",
    "    a, b, c = i\n",
    "    undirected_graph[a].append([a, b, c])\n",
    "    undirected_graph[b].append([b, a, c])\n",
    "    \n",
    "undirected_graph"
   ]
  },
  {
   "cell_type": "code",
   "execution_count": 72,
   "id": "3c92394a",
   "metadata": {},
   "outputs": [],
   "source": [
    "nodes = 7\n",
    "edges = 9\n",
    "start = 1\n",
    "graph = [\n",
    "    [1, 2, 29],\n",
    "    [1, 5, 75],\n",
    "    [2, 3, 75],\n",
    "    [2, 6, 34],\n",
    "    [3, 4, 7],\n",
    "    [4, 6, 23],\n",
    "    [4, 7, 13],\n",
    "    [5, 6, 53],\n",
    "    [6, 7, 25]\n",
    "]"
   ]
  },
  {
   "cell_type": "markdown",
   "id": "5e540bf1",
   "metadata": {},
   "source": [
    "$O(N^2)$"
   ]
  },
  {
   "cell_type": "code",
   "execution_count": 74,
   "id": "3d79ac85",
   "metadata": {},
   "outputs": [
    {
     "name": "stdout",
     "output_type": "stream",
     "text": [
      "(159, [(1, 2), (2, 6), (6, 4), (4, 3), (4, 7), (6, 5)])\n"
     ]
    }
   ],
   "source": [
    "import heapq\n",
    "import collections\n",
    "\n",
    "undirected_graph = collections.defaultdict(list)\n",
    "for i in graph:\n",
    "    a, b, c = i\n",
    "    undirected_graph[a].append([c, a, b])\n",
    "    undirected_graph[b].append([c, b, a])\n",
    "        \n",
    "def prim(undirected_graph, start):\n",
    "    visited[start] = True\n",
    "    q = undirected_graph[start] \n",
    "    heapq.heapify(q) # 인접 노드와 연결하는 간선들\n",
    "    \n",
    "    r = 0\n",
    "    mst = []\n",
    "    while q:\n",
    "        # print(q)\n",
    "        c, a, b = heapq.heappop(q)\n",
    "        \n",
    "        if not visited[b]:\n",
    "            visited[b] = True\n",
    "            mst.append((a, b))\n",
    "            r += c\n",
    "            \n",
    "            for edge in undirected_graph[b]:\n",
    "                _, _, node = edge # 다음 노드\n",
    "                if not visited[node]:\n",
    "                    heapq.heappush(q, edge)\n",
    "                    \n",
    "    return r, mst\n",
    "\n",
    "visited = [False] * (nodes+1)\n",
    "\n",
    "print(prim(undirected_graph, start))"
   ]
  },
  {
   "cell_type": "markdown",
   "id": "0b5e2de4",
   "metadata": {},
   "source": [
    "### Kruskal: MST for sparse graph\n",
    "\n",
    "모든 가중치 정렬 후 낮은 순으로 추가하되 사이클을 형성하는 간선은 제외"
   ]
  },
  {
   "cell_type": "markdown",
   "id": "c338f272",
   "metadata": {},
   "source": [
    "$O(E \\log_2 E)$: 정렬에 걸리는 시간복잡도"
   ]
  },
  {
   "cell_type": "code",
   "execution_count": 71,
   "id": "763c8ab0",
   "metadata": {},
   "outputs": [
    {
     "name": "stdout",
     "output_type": "stream",
     "text": [
      "[0, 1, 1, 1, 3, 1, 1, 3]\n",
      "159 [(3, 4), (4, 7), (4, 6), (1, 2), (2, 6), (5, 6)]\n"
     ]
    }
   ],
   "source": [
    "def find(parent, x): # 루트 노드 찾기\n",
    "    if parent[x]!=x: # 루트 노드가 아니라면\n",
    "        parent[x] = find(parent, parent[x]) # 경로 압축\n",
    "        # return find(parent, parent[x]) # 경로 압축 미적용\n",
    "    return parent[x] # 경로 압축\n",
    "    # return x # 경로 압축 미적용\n",
    "\n",
    "def union(parent, a, b): # 두 집합 합치기\n",
    "    a = find(parent, a) # 루트 노드 찾기\n",
    "    b = find(parent, b) # 루트 노드 찾기\n",
    "    if a<b:\n",
    "        parent[b] = a # a를 b의 부모 노드로 설정\n",
    "    else:\n",
    "        parent[a] = b # b를 a의 부모 노드로 설정\n",
    "\n",
    "graph = sorted(graph, key=lambda x: x[2])\n",
    "\n",
    "parent = [0] * (nodes+1)\n",
    "for i in range(1, nodes+1):\n",
    "    parent[i] = i\n",
    "    \n",
    "r = 0\n",
    "mst = []\n",
    "for i in graph:\n",
    "    a, b, c = i\n",
    "    if find(parent, a) != find(parent, b): # 루트 노드가 다르면 (= 다른 집합이면)\n",
    "        # 루트 노드가 같다면 사이클이 발생한 것\n",
    "        union(parent, a, b) # 두 집합 합치기\n",
    "        mst.append((a, b))\n",
    "        r += c\n",
    "\n",
    "print(parent)\n",
    "print(r, mst)"
   ]
  },
  {
   "cell_type": "markdown",
   "id": "596cc603",
   "metadata": {},
   "source": [
    "## Topological sort: 노드들을 출발->도착 방향에 맞게 정렬\n",
    "\n",
    "$O(N+E)$"
   ]
  },
  {
   "cell_type": "code",
   "execution_count": 18,
   "id": "22048b6d",
   "metadata": {},
   "outputs": [
    {
     "name": "stdout",
     "output_type": "stream",
     "text": [
      "7 8\n",
      "1 2\n",
      "1 5\n",
      "2 3\n",
      "2 6\n",
      "3 4\n",
      "4 7\n",
      "5 6\n",
      "6 4\n",
      "1 2 5 3 6 4 7 "
     ]
    }
   ],
   "source": [
    "from collections import deque\n",
    "\n",
    "nodes, edges = map(int, input().split())\n",
    "indegree = [0] * (nodes+1) # 진입차수: 특정 노드로 들어오는 간선의 갯수\n",
    "graph = [[] for i in range(nodes+1)]\n",
    "\n",
    "for _ in range(edges):\n",
    "    a, b = map(int, input().split())\n",
    "    graph[a].append(b)\n",
    "    indegree[b]+=1\n",
    "    \n",
    "def topological_sort():\n",
    "    r = []\n",
    "    q = deque()\n",
    "    \n",
    "    for i in range(1, nodes+1):\n",
    "        if indegree[i]==0: # 진입차수가 0인 노드를 큐에 넣음\n",
    "            q.append(i)\n",
    "            \n",
    "    while q:\n",
    "        node = q.popleft()\n",
    "        r.append(node)\n",
    "        \n",
    "        for i in graph[node]: # 해당 노드에서 출발하는 간선들을 제거\n",
    "            indegree[i]-=1\n",
    "            if indegree[i]==0: # 진입차수가 0인 노드를 큐에 넣음\n",
    "                q.append(i)\n",
    "                \n",
    "    for i in r:\n",
    "        print(i, end=\" \")\n",
    "        \n",
    "topological_sort()"
   ]
  },
  {
   "cell_type": "markdown",
   "id": "36753a3c",
   "metadata": {},
   "source": [
    "# 백준 단계별로"
   ]
  },
  {
   "cell_type": "markdown",
   "id": "df3e39d5",
   "metadata": {},
   "source": [
    "### 낮 a 올라감; 밤 b 내려감; v 미터?"
   ]
  },
  {
   "cell_type": "code",
   "execution_count": 39,
   "id": "d719ca15",
   "metadata": {},
   "outputs": [
    {
     "name": "stdout",
     "output_type": "stream",
     "text": [
      "5 1 6\n",
      "2\n"
     ]
    }
   ],
   "source": [
    "a, b, v = map(int, input().split())\n",
    "\n",
    "# a*d - b*(d-1) >= v\n",
    "# d >= (v-b)/(a-b)\n",
    "\n",
    "d = (v-b)/(a-b)\n",
    "\n",
    "if d == int(d):\n",
    "    print(int(d))\n",
    "else:\n",
    "    print(int(d)+1)"
   ]
  },
  {
   "cell_type": "markdown",
   "id": "8c1a4f50",
   "metadata": {},
   "source": [
    "### 좌표 압축"
   ]
  },
  {
   "cell_type": "code",
   "execution_count": 81,
   "id": "6fc154f0",
   "metadata": {
    "scrolled": true
   },
   "outputs": [
    {
     "name": "stdout",
     "output_type": "stream",
     "text": [
      "5\n",
      "2 4 -10 4 -9\n",
      "2 3 0 3 1 "
     ]
    }
   ],
   "source": [
    "n = int(input())\n",
    "\n",
    "l = list(map(int, input().split()))\n",
    "\n",
    "x = list(sorted(set(l)))\n",
    "\n",
    "d = {}\n",
    "for i in range(len(x)):\n",
    "    d[x[i]] = i\n",
    "    \n",
    "for i in l:\n",
    "    print(d[i], end=\" \")"
   ]
  },
  {
   "cell_type": "markdown",
   "id": "d3e9ba93",
   "metadata": {},
   "source": [
    "### 덩치 등수"
   ]
  },
  {
   "cell_type": "code",
   "execution_count": 68,
   "id": "68b208c0",
   "metadata": {},
   "outputs": [
    {
     "name": "stdout",
     "output_type": "stream",
     "text": [
      "5\n",
      "55 185\n",
      "58 183\n",
      "88 186\n",
      "60 175\n",
      "46 155\n",
      "2 2 1 2 5 "
     ]
    }
   ],
   "source": [
    "t = int(input())\n",
    "\n",
    "l = []\n",
    "for _ in range(t):\n",
    "    w, h = map(int, input().split())\n",
    "    l.append((w, h))\n",
    "    \n",
    "for i in l:\n",
    "    rank = 1\n",
    "    for j in l:\n",
    "        if i[0]<j[0] and i[1]<j[1]:\n",
    "            rank+=1\n",
    "    print(rank, end=\" \")"
   ]
  },
  {
   "cell_type": "markdown",
   "id": "6cd58a73",
   "metadata": {},
   "source": [
    "# USACO"
   ]
  },
  {
   "cell_type": "markdown",
   "id": "8a88c9e3",
   "metadata": {},
   "source": [
    "PROBLEM NAME: cowrow\n",
    "\n",
    "INPUT FORMAT:\n",
    "\n",
    "* Line 1: The integer N.\n",
    "\n",
    "* Lines 2..1+N: Line i+1 contains B(i), an integer in the range\n",
    "        0...1,000,000.\n",
    "\n",
    "SAMPLE INPUT (file cowrow.in):\n",
    "\n",
    "9\n",
    "2\n",
    "7\n",
    "3\n",
    "7\n",
    "7\n",
    "3\n",
    "7\n",
    "5\n",
    "7\n",
    "\n",
    "INPUT DETAILS:\n",
    "\n",
    "There are 9 cows in the lineup, with breed IDs 2, 7, 3, 7, 7, 3, 7, 5, 7.\n",
    "\n",
    "OUTPUT FORMAT:\n",
    "\n",
    "* Line 1: The largest size of a contiguous block of cows with\n",
    "        identical breed IDs that FJ can create.\n",
    "\n",
    "SAMPLE OUTPUT (file cowrow.out):\n",
    "\n",
    "4\n",
    "\n",
    "OUTPUT DETAILS:\n",
    "\n",
    "By removing all cows with breed ID 3, the lineup reduces to 2, 7, 7, 7, 7,\n",
    "5, 7.  In this new lineup, there is a contiguous block of 4 cows with the\n",
    "same breed ID (7)."
   ]
  },
  {
   "cell_type": "code",
   "execution_count": 78,
   "id": "c7fbd93d",
   "metadata": {},
   "outputs": [
    {
     "name": "stdout",
     "output_type": "stream",
     "text": [
      "10\n",
      "4\n"
     ]
    }
   ],
   "source": [
    "n = int(input())\n",
    "\n",
    "l = [9,2,7,3,7,7,3,7,5,7]\n",
    "# l = []\n",
    "# for _ in range(n):\n",
    "#     l.append(int(input()))\n",
    "    \n",
    "s = set(l)\n",
    "\n",
    "max_streak = 1\n",
    "for i in s:\n",
    "    prev = -1\n",
    "    streak = 1\n",
    "    for j in l:\n",
    "        if j != i:\n",
    "            if prev == -1:\n",
    "                prev = j\n",
    "            else:\n",
    "                if prev == j:\n",
    "                    streak += 1\n",
    "                else:\n",
    "                    max_streak = max(max_streak, streak)\n",
    "                    prev = j\n",
    "                    streak = 1\n",
    "    max_streak = max(max_streak, streak)\n",
    "\n",
    "print(max_streak)"
   ]
  },
  {
   "cell_type": "code",
   "execution_count": null,
   "id": "e9ccde66",
   "metadata": {},
   "outputs": [],
   "source": []
  }
 ],
 "metadata": {
  "interpreter": {
   "hash": "11ff6bfcaecee1ee58efd5056b36e79a4e8f4f988a95af2d0be67cac6c4657fe"
  },
  "kernelspec": {
   "display_name": "Python 3",
   "language": "python",
   "name": "python3"
  },
  "language_info": {
   "codemirror_mode": {
    "name": "ipython",
    "version": 3
   },
   "file_extension": ".py",
   "mimetype": "text/x-python",
   "name": "python",
   "nbconvert_exporter": "python",
   "pygments_lexer": "ipython3",
   "version": "3.8.13"
  }
 },
 "nbformat": 4,
 "nbformat_minor": 5
}
