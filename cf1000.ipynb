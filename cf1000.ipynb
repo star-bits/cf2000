{
 "cells": [
  {
   "cell_type": "code",
   "execution_count": 1,
   "id": "3ace19e9",
   "metadata": {},
   "outputs": [
    {
     "name": "stdout",
     "output_type": "stream",
     "text": [
      "base: /opt/homebrew/Caskroom/miniconda/base/envs/xcda\n",
      "prfx: /opt/homebrew/Caskroom/miniconda/base/envs/xcda\n"
     ]
    }
   ],
   "source": [
    "import sys\n",
    "\n",
    "if hasattr(sys, 'base_prefix'):\n",
    "    print(f\"base: {sys.base_prefix}\")\n",
    "\n",
    "if hasattr(sys, 'real_prefix'):\n",
    "    print(f\"real: {sys.real_prefix}\")\n",
    "\n",
    "if hasattr(sys, 'prefix'):\n",
    "    print(f\"prfx: {sys.prefix}\")"
   ]
  },
  {
   "cell_type": "markdown",
   "id": "279e1ba5",
   "metadata": {},
   "source": [
    "# Built-in functions"
   ]
  },
  {
   "cell_type": "markdown",
   "id": "2f951544",
   "metadata": {},
   "source": [
    "`count()`, `index()`"
   ]
  },
  {
   "cell_type": "code",
   "execution_count": 49,
   "id": "e8084c20",
   "metadata": {},
   "outputs": [
    {
     "name": "stdout",
     "output_type": "stream",
     "text": [
      "2\n",
      "3\n"
     ]
    }
   ],
   "source": [
    "l = [10, 10, 10, 20, 20, 30]\n",
    "\n",
    "cnt = l.count(20) # val\n",
    "print(cnt)\n",
    "\n",
    "idx = l.index(20) # val\n",
    "print(idx)"
   ]
  },
  {
   "cell_type": "code",
   "execution_count": 50,
   "id": "946e7d26",
   "metadata": {},
   "outputs": [
    {
     "name": "stdout",
     "output_type": "stream",
     "text": [
      "[10, 10, 10, 20, 30]\n",
      "[10, 10, 20, 30]\n"
     ]
    }
   ],
   "source": [
    "l = [10, 10, 10, 20, 20, 30]\n",
    "\n",
    "l.remove(20) # val\n",
    "print(l)\n",
    "\n",
    "l.pop(2) # idx\n",
    "print(l)"
   ]
  },
  {
   "cell_type": "markdown",
   "id": "1832f603",
   "metadata": {},
   "source": [
    "`replace()`"
   ]
  },
  {
   "cell_type": "code",
   "execution_count": 15,
   "id": "300af7f5",
   "metadata": {},
   "outputs": [
    {
     "name": "stdout",
     "output_type": "stream",
     "text": [
      "abd\n"
     ]
    }
   ],
   "source": [
    "s = 'abc'\n",
    "s = s.replace('c', 'd') # only works with str\n",
    "print(s)"
   ]
  },
  {
   "cell_type": "code",
   "execution_count": 12,
   "id": "2f2a307a",
   "metadata": {},
   "outputs": [
    {
     "name": "stdout",
     "output_type": "stream",
     "text": [
      "[3, 2, 1]\n",
      "[1, 2, 3]\n"
     ]
    }
   ],
   "source": [
    "l = [1, 2, 3]\n",
    "\n",
    "l = list(reversed(l))\n",
    "print(l)\n",
    "\n",
    "l = l[::-1]\n",
    "print(l)"
   ]
  },
  {
   "cell_type": "markdown",
   "id": "847125c2",
   "metadata": {},
   "source": [
    "`.join()`, `map()`,`*l`"
   ]
  },
  {
   "cell_type": "code",
   "execution_count": 75,
   "id": "d169783b",
   "metadata": {},
   "outputs": [
    {
     "name": "stdout",
     "output_type": "stream",
     "text": [
      "123\n",
      "123\n",
      "[1, 2, 3]\n",
      "1 2 3\n"
     ]
    }
   ],
   "source": [
    "l = ['1', '2', '3']\n",
    "s = ''.join(l)\n",
    "print(s)\n",
    "\n",
    "l = [1, 2, 3]\n",
    "s = ''.join(str(i) for i in l)\n",
    "print(s)\n",
    "\n",
    "l = list(map(int, s))\n",
    "print(l)\n",
    "\n",
    "print(*l)"
   ]
  },
  {
   "cell_type": "markdown",
   "id": "596b6b1c",
   "metadata": {},
   "source": [
    "`sorted l key lambda`"
   ]
  },
  {
   "cell_type": "code",
   "execution_count": 80,
   "id": "f2f11736",
   "metadata": {},
   "outputs": [
    {
     "name": "stdout",
     "output_type": "stream",
     "text": [
      "[(1, 2), (2, 2), (2, 3)]\n",
      "[(2, 2), (2, 3), (1, 2)]\n"
     ]
    }
   ],
   "source": [
    "l = [(2, 2), (2, 3), (1, 2)]\n",
    "\n",
    "m = sorted(l, key=lambda x: x[0])\n",
    "print(m)\n",
    "\n",
    "m = sorted(l, key=lambda x: (int(x[0]), -x[1]), reverse=True)\n",
    "print(m)"
   ]
  },
  {
   "cell_type": "code",
   "execution_count": 23,
   "id": "e805c2d4",
   "metadata": {},
   "outputs": [
    {
     "name": "stdout",
     "output_type": "stream",
     "text": [
      "[('a', 1), ('b', 2), ('c', 3)]\n",
      "{'a': 1, 'b': 2, 'c': 3}\n"
     ]
    }
   ],
   "source": [
    "l1 = ['a', 'b', 'c']\n",
    "l2 = [1, 2, 3]\n",
    "\n",
    "lz = list(zip(l1, l2))\n",
    "print(lz)\n",
    "\n",
    "dz = dict(zip(l1, l2))\n",
    "print(dz)"
   ]
  },
  {
   "cell_type": "code",
   "execution_count": 25,
   "id": "bbec8074",
   "metadata": {},
   "outputs": [
    {
     "name": "stdout",
     "output_type": "stream",
     "text": [
      "[(1, 2), (1, 3), (2, 1), (2, 3), (3, 1), (3, 2)]\n",
      "[(1, 2), (1, 3), (2, 3)]\n"
     ]
    }
   ],
   "source": [
    "import itertools\n",
    "\n",
    "l = [1, 2, 3]\n",
    "\n",
    "lp = list(itertools.permutations(l, 2))\n",
    "print(lp)\n",
    "\n",
    "lc = list(itertools.combinations(l, 2))\n",
    "print(lc)"
   ]
  },
  {
   "cell_type": "code",
   "execution_count": 26,
   "id": "05fda436",
   "metadata": {},
   "outputs": [
    {
     "name": "stdout",
     "output_type": "stream",
     "text": [
      "{'a': 0, 'b': 1, 'c': 2}\n"
     ]
    }
   ],
   "source": [
    "l = ['a', 'b', 'c']\n",
    "\n",
    "d = {}\n",
    "for i in range(len(l)):\n",
    "    d[l[i]] = i\n",
    "    \n",
    "print(d)"
   ]
  },
  {
   "cell_type": "code",
   "execution_count": 27,
   "id": "848c1f35",
   "metadata": {},
   "outputs": [
    {
     "name": "stdout",
     "output_type": "stream",
     "text": [
      "{'a': [1, 2], 'b': [1]}\n"
     ]
    }
   ],
   "source": [
    "l = [('a', 1), ('a', 2), ('b', 1)]\n",
    "\n",
    "d = {}\n",
    "for i in l:\n",
    "    if i[0] in d:\n",
    "        d[i[0]].append(i[1])\n",
    "    else:\n",
    "        d[i[0]] = [i[1]]\n",
    "        \n",
    "print(d)"
   ]
  },
  {
   "cell_type": "code",
   "execution_count": 36,
   "id": "c9abad4b",
   "metadata": {},
   "outputs": [
    {
     "name": "stdout",
     "output_type": "stream",
     "text": [
      "{'A': {'a': 1}, 'B': {'a': 2}, 'C': {'a': 3}}\n",
      "dict_items([('A', {'a': 1}), ('B', {'a': 2}), ('C', {'a': 3})])\n",
      "[('C', {'a': 3}), ('B', {'a': 2}), ('A', {'a': 1})]\n",
      "{'A': {'a': 1}, 'B': {'a': 2}, 'C': {'a': 3}, 'D': {'a': 4}}\n"
     ]
    }
   ],
   "source": [
    "d = {'A': {'a': 1},\n",
    "     'B': {'a': 2}}\n",
    "\n",
    "d['C'] = {}\n",
    "d['C']['a'] = 3\n",
    "print(d)\n",
    "\n",
    "print(d.items())\n",
    "\n",
    "e = sorted(d.items(), key=lambda x: x[1]['a'], reverse=True)\n",
    "print(e)\n",
    "\n",
    "f = {'D': {'a': 4}}\n",
    "d.update(f)\n",
    "print(d)"
   ]
  },
  {
   "cell_type": "code",
   "execution_count": 47,
   "id": "698d259f",
   "metadata": {},
   "outputs": [
    {
     "name": "stdout",
     "output_type": "stream",
     "text": [
      "0.12\n"
     ]
    }
   ],
   "source": [
    "a = 0.1234\n",
    "\n",
    "print(f\"{a:.2f}\")"
   ]
  },
  {
   "cell_type": "code",
   "execution_count": 48,
   "id": "396d5ae8",
   "metadata": {},
   "outputs": [
    {
     "name": "stdout",
     "output_type": "stream",
     "text": [
      "abcdefghijklmnopqrstuvwxyz"
     ]
    }
   ],
   "source": [
    "for i in range(97, 123):\n",
    "    print(f\"{chr(i)}\", end=\"\")"
   ]
  },
  {
   "cell_type": "markdown",
   "id": "bafdb06b",
   "metadata": {},
   "source": [
    "# GCD, LCM"
   ]
  },
  {
   "cell_type": "code",
   "execution_count": 84,
   "id": "c5a29cb9",
   "metadata": {},
   "outputs": [
    {
     "name": "stdout",
     "output_type": "stream",
     "text": [
      "6 21\n",
      "3\n",
      "42\n"
     ]
    }
   ],
   "source": [
    "a, b = map(int, input().split())\n",
    "\n",
    "def gcd(a, b):\n",
    "    while b>0:\n",
    "        a, b = b, a%b\n",
    "    return a\n",
    "\n",
    "def lcm(a, b):\n",
    "    return a*b // gcd(a, b)\n",
    "\n",
    "print(gcd(a, b))\n",
    "print(lcm(a, b))"
   ]
  },
  {
   "cell_type": "markdown",
   "id": "1f80b703",
   "metadata": {},
   "source": [
    "# Prime"
   ]
  },
  {
   "cell_type": "code",
   "execution_count": 57,
   "id": "9d4357b1",
   "metadata": {},
   "outputs": [
    {
     "name": "stdout",
     "output_type": "stream",
     "text": [
      "23\n",
      "True\n"
     ]
    }
   ],
   "source": [
    "n = int(input())\n",
    "\n",
    "prime = True\n",
    "if n>1:\n",
    "    for i in range(2, int(n**0.5)+1):\n",
    "        if n%i==0:\n",
    "            prime = False\n",
    "            break\n",
    "            \n",
    "print(prime)"
   ]
  },
  {
   "cell_type": "code",
   "execution_count": 59,
   "id": "b06d594d",
   "metadata": {},
   "outputs": [
    {
     "name": "stdout",
     "output_type": "stream",
     "text": [
      "15\n",
      "[False, False, True, True, False, True, False, True, False, False, False, True, False, True, False, False]\n"
     ]
    }
   ],
   "source": [
    "n = int(input())\n",
    "\n",
    "l = [False, False] + [True]*(n-1)\n",
    "\n",
    "for i in range(2, int(n**0.5)+1):\n",
    "    if l[i]:\n",
    "        for j in range(2*i, n+1, i): \n",
    "            # if 2 is a prime number, then multiples of 2 \n",
    "            # can't possibly be a prime number.\n",
    "            l[j] = False\n",
    "            \n",
    "print(l)"
   ]
  },
  {
   "cell_type": "markdown",
   "id": "c5741292",
   "metadata": {},
   "source": [
    "# Factorization"
   ]
  },
  {
   "cell_type": "code",
   "execution_count": 60,
   "id": "1e8f99a3",
   "metadata": {},
   "outputs": [
    {
     "name": "stdout",
     "output_type": "stream",
     "text": [
      "12\n",
      "2\n",
      "2\n",
      "3\n"
     ]
    }
   ],
   "source": [
    "x = int(input())\n",
    "\n",
    "i = 2\n",
    "while x!=1:\n",
    "    if x%i == 0:\n",
    "        x = x/i\n",
    "        print(i)\n",
    "    else:\n",
    "        i+=1"
   ]
  },
  {
   "cell_type": "markdown",
   "id": "b13a6223",
   "metadata": {},
   "source": [
    "# Hanoi"
   ]
  },
  {
   "cell_type": "code",
   "execution_count": 66,
   "id": "bc0b2c9d",
   "metadata": {},
   "outputs": [
    {
     "name": "stdout",
     "output_type": "stream",
     "text": [
      "3\n",
      "1 3\n",
      "1 2\n",
      "3 2\n",
      "1 3\n",
      "2 1\n",
      "2 3\n",
      "1 3\n",
      "7\n"
     ]
    }
   ],
   "source": [
    "n = int(input())\n",
    "\n",
    "def hanoi(n, a, b, c):\n",
    "    if n == 1:\n",
    "        print(a, c)\n",
    "    else:\n",
    "        hanoi(n-1, a, c, b) # n-1개의 원반을 a에서 b로\n",
    "        print(a, c) # 마지막 원반을 a에서 c로\n",
    "        hanoi(n-1, b, a, c) # n-1개의 원반을 b에서 c로\n",
    "        \n",
    "hanoi(n, 1, 2, 3)\n",
    "\n",
    "print(2**n-1)"
   ]
  },
  {
   "cell_type": "markdown",
   "id": "c610c1da",
   "metadata": {},
   "source": [
    "# Fibonacci"
   ]
  },
  {
   "cell_type": "code",
   "execution_count": 83,
   "id": "6e24ad27",
   "metadata": {},
   "outputs": [
    {
     "name": "stdout",
     "output_type": "stream",
     "text": [
      "10\n",
      "55\n"
     ]
    }
   ],
   "source": [
    "dp = [0] * 1000\n",
    "\n",
    "def fib(x):\n",
    "    if dp[x]:\n",
    "        return dp[x]\n",
    "    if x==0:\n",
    "        return 0\n",
    "    if x==1:\n",
    "        return 1\n",
    "    dp[x] = fib(x-1) + fib(x-2)\n",
    "    \n",
    "    return dp[x]\n",
    "\n",
    "a = int(input())\n",
    "print(fib(a))"
   ]
  },
  {
   "cell_type": "markdown",
   "id": "625119bf",
   "metadata": {},
   "source": [
    "# Factorial"
   ]
  },
  {
   "cell_type": "code",
   "execution_count": 85,
   "id": "1fa2c54a",
   "metadata": {},
   "outputs": [
    {
     "name": "stdout",
     "output_type": "stream",
     "text": [
      "10\n",
      "3628800\n"
     ]
    }
   ],
   "source": [
    "dp = [0] * 1000\n",
    "\n",
    "def fac(x):\n",
    "    if dp[x]:\n",
    "        return dp[x]\n",
    "    if x==0:\n",
    "        return 1\n",
    "    dp[x] = x * fac(x-1)\n",
    "    \n",
    "    return dp[x]\n",
    "\n",
    "a = int(input())\n",
    "print(fac(a))"
   ]
  },
  {
   "cell_type": "markdown",
   "id": "1f236e0d",
   "metadata": {},
   "source": [
    "# Sort"
   ]
  },
  {
   "cell_type": "markdown",
   "id": "20a49cc8",
   "metadata": {},
   "source": [
    "### Bubble sort: 인접 element끼리 swap\n",
    "\n",
    "$O(n^2)$"
   ]
  },
  {
   "cell_type": "code",
   "execution_count": 89,
   "id": "f3de5846",
   "metadata": {},
   "outputs": [
    {
     "name": "stdout",
     "output_type": "stream",
     "text": [
      "[9, 8, 7, 6, 5, 4, 3, 2, 1, 0]\n",
      "[0, 1, 2, 3, 4, 5, 6, 7, 8, 9]\n"
     ]
    }
   ],
   "source": [
    "l = [i for i in range(9, -1, -1)]\n",
    "print(l)\n",
    "\n",
    "def bubblesort(l):\n",
    "    for i in range(len(l)-1): # sort completed in the penultimate iteration.\n",
    "        for j in range(len(l)-i-1): # -i because i elements in the right are already sorted.\n",
    "            if l[j] > l[j+1]:\n",
    "                l[j], l[j+1] = l[j+1], l[j]\n",
    "                \n",
    "bubblesort(l)\n",
    "print(l)"
   ]
  },
  {
   "cell_type": "markdown",
   "id": "818f1377",
   "metadata": {},
   "source": [
    "### Selection sort: 최솟값 찾아 맨 앞으로 보냄\n",
    "\n",
    "$O(n^2)$"
   ]
  },
  {
   "cell_type": "code",
   "execution_count": 90,
   "id": "f7181d02",
   "metadata": {},
   "outputs": [
    {
     "name": "stdout",
     "output_type": "stream",
     "text": [
      "[9, 8, 7, 6, 5, 4, 3, 2, 1, 0]\n",
      "[0, 1, 2, 3, 4, 5, 6, 7, 8, 9]\n"
     ]
    }
   ],
   "source": [
    "l = [i for i in range(9, -1, -1)]\n",
    "print(l)\n",
    "\n",
    "def selectionsort(l):\n",
    "    for i in range(len(l)-1):\n",
    "        min_idx = i\n",
    "        for j in range(i+1, len(l)):\n",
    "            if l[j] < l[min_idx]:\n",
    "                min_idx = j\n",
    "        l[i], l[min_idx] = l[min_idx], l[i]\n",
    "        \n",
    "selectionsort(l)\n",
    "print(l)"
   ]
  },
  {
   "cell_type": "markdown",
   "id": "78e30765",
   "metadata": {},
   "source": [
    "최댓값 찾아 맨 뒤로 보냄"
   ]
  },
  {
   "cell_type": "code",
   "execution_count": 91,
   "id": "eb0a6403",
   "metadata": {},
   "outputs": [
    {
     "name": "stdout",
     "output_type": "stream",
     "text": [
      "[9, 8, 7, 6, 5, 4, 3, 2, 1, 0]\n",
      "[0, 1, 2, 3, 4, 5, 6, 7, 8, 9]\n"
     ]
    }
   ],
   "source": [
    "l = [i for i in range(9, -1, -1)]\n",
    "print(l)\n",
    "\n",
    "def selectionsort(l):\n",
    "    for i in range(len(l)-1, -1, -1):\n",
    "        max_idx = i\n",
    "        for j in range(i):\n",
    "            if l[j] > l[max_idx]:\n",
    "                max_idx = j\n",
    "        l[i], l[max_idx] = l[max_idx], l[i]\n",
    "        \n",
    "selectionsort(l)\n",
    "print(l)"
   ]
  },
  {
   "cell_type": "markdown",
   "id": "392ef937",
   "metadata": {},
   "source": [
    "### Insertion sort: 오른쪽으로 한칸씩 진출하면서 알맞은 자리에 꽂아넣음\n",
    "\n",
    "Worst: $O(n^2)$, Average: $O(n^2)$, Best: $O(n)$"
   ]
  },
  {
   "cell_type": "code",
   "execution_count": 92,
   "id": "746523fc",
   "metadata": {},
   "outputs": [
    {
     "name": "stdout",
     "output_type": "stream",
     "text": [
      "[9, 8, 7, 6, 5, 4, 3, 2, 1, 0]\n",
      "[0, 1, 2, 3, 4, 5, 6, 7, 8, 9]\n"
     ]
    }
   ],
   "source": [
    "l = [i for i in range(9, -1, -1)]\n",
    "print(l)\n",
    "\n",
    "def insertionsort(l):\n",
    "    for i in range(1, len(l)):\n",
    "        for j in range(i, 0, -1):\n",
    "            if l[j-1]>l[j]:\n",
    "                l[j-1], l[j] = l[j], l[j-1]\n",
    "                \n",
    "insertionsort(l)\n",
    "print(l)"
   ]
  },
  {
   "cell_type": "markdown",
   "id": "711b6869",
   "metadata": {},
   "source": [
    "### Merge sort: merging two sorted lists, over and over\n",
    "\n",
    "$O(n \\log n)$"
   ]
  },
  {
   "cell_type": "code",
   "execution_count": 93,
   "id": "9bb4e8e8",
   "metadata": {},
   "outputs": [
    {
     "name": "stdout",
     "output_type": "stream",
     "text": [
      "[9, 8, 7, 6, 5, 4, 3, 2, 1, 0]\n",
      "[0, 1, 2, 3, 4, 5, 6, 7, 8, 9]\n"
     ]
    }
   ],
   "source": [
    "l = [i for i in range(9, -1, -1)]\n",
    "print(l)\n",
    "\n",
    "def mergesort(l):\n",
    "    if len(l)==1:\n",
    "        return l\n",
    "    \n",
    "    mid = len(l)//2\n",
    "    left = mergesort(l[:mid])\n",
    "    right = mergesort(l[mid:])\n",
    "    return merge(left, right)\n",
    "    \n",
    "def merge(left, right):\n",
    "    output = []\n",
    "    i = j = 0 # pointers for `left` and `right`\n",
    "    \n",
    "    while i<len(left) and j<len(right):\n",
    "        if left[i] < right[j]:\n",
    "            output.append(left[i])\n",
    "            i+=1\n",
    "        else:\n",
    "            output.append(right[j])\n",
    "            j+=1     \n",
    "    output.extend(left[i:])\n",
    "    output.extend(right[j:])\n",
    "    \n",
    "    return output\n",
    "\n",
    "l = mergesort(l)\n",
    "print(l)"
   ]
  },
  {
   "cell_type": "markdown",
   "id": "c02e880f",
   "metadata": {},
   "source": [
    "### Quick sort: pivot 골라서 pivot보다 작으면 왼쪽, 크면 오른쪽\n",
    "\n",
    "Worst: $O(n^2)$, Average: $O(n \\log n)$, Best: $O(n \\log n)$"
   ]
  },
  {
   "cell_type": "code",
   "execution_count": 94,
   "id": "b7a8190a",
   "metadata": {},
   "outputs": [
    {
     "name": "stdout",
     "output_type": "stream",
     "text": [
      "[9, 8, 7, 6, 5, 4, 3, 2, 1, 0]\n",
      "[0, 1, 2, 3, 4, 5, 6, 7, 8, 9]\n"
     ]
    }
   ],
   "source": [
    "l = [i for i in range(9, -1, -1)]\n",
    "print(l)\n",
    "\n",
    "def quicksort(l, first, last): # index of the first and last element\n",
    "    if first < last:\n",
    "        pivot = partition(l, first, last)\n",
    "        quicksort(l, first, pivot-1)\n",
    "        quicksort(l, pivot+1, last)\n",
    "        \n",
    "def partition(l, first, last):\n",
    "    pivot = l[last]\n",
    "    j = first\n",
    "    \n",
    "    # pivot보다 l[i]가 크면 j를 그 element에 고정하고 swap 없이 다음 i로 넘어감.\n",
    "    # pivot보다 l[i]가 작으면 l[i]와 l[j] swap하고 j+=1.\n",
    "    # 마지막에 j와 pivot도 swap.\n",
    "    # j는 항상 pivot보다 큰 첫번째 element의 index.\n",
    "    for i in range(first, last):\n",
    "        if l[i] < pivot:\n",
    "            l[j], l[i] = l[i], l[j]\n",
    "            j = j+1\n",
    "            \n",
    "    l[j], l[last] = l[last], l[j]\n",
    "    return j\n",
    "\n",
    "quicksort(l, 0, len(l)-1)\n",
    "print(l)"
   ]
  },
  {
   "cell_type": "markdown",
   "id": "35c096d1",
   "metadata": {},
   "source": [
    "```python\n",
    "e.g. 2713654\n",
    "i=0            ->1->2            ->3            ->4->5\n",
    "j=0->2713654->1      ->2173654->2   ->2137654->3      ->2134657\n",
    "```"
   ]
  },
  {
   "cell_type": "markdown",
   "id": "26b2a173",
   "metadata": {},
   "source": [
    "일반적으로 원소의 갯수가 적어질수록 나쁜 pivot이 선택될 확률이 높아지므로 원소의 갯수에 따라 다른 정렬을 혼합해 사용함."
   ]
  },
  {
   "cell_type": "markdown",
   "id": "be31ae15",
   "metadata": {},
   "source": [
    "### Heap sort\n",
    "\n",
    "$O(n \\log n)$"
   ]
  },
  {
   "cell_type": "code",
   "execution_count": null,
   "id": "598adda8",
   "metadata": {},
   "outputs": [],
   "source": []
  },
  {
   "cell_type": "markdown",
   "id": "c55d5ebb",
   "metadata": {},
   "source": [
    "### Counting sort\n",
    "\n",
    "$O(n+k)$"
   ]
  },
  {
   "cell_type": "code",
   "execution_count": null,
   "id": "112fa4c2",
   "metadata": {},
   "outputs": [],
   "source": []
  },
  {
   "cell_type": "markdown",
   "id": "e8c1869d",
   "metadata": {},
   "source": [
    "# Search"
   ]
  },
  {
   "cell_type": "markdown",
   "id": "d53d496c",
   "metadata": {},
   "source": [
    "Linear search"
   ]
  },
  {
   "cell_type": "code",
   "execution_count": null,
   "id": "f55422e0",
   "metadata": {},
   "outputs": [],
   "source": []
  },
  {
   "cell_type": "markdown",
   "id": "7abe7f4b",
   "metadata": {},
   "source": [
    "Binary search"
   ]
  },
  {
   "cell_type": "code",
   "execution_count": null,
   "id": "170c22aa",
   "metadata": {},
   "outputs": [],
   "source": []
  },
  {
   "cell_type": "markdown",
   "id": "d92df661",
   "metadata": {},
   "source": [
    "# Graph"
   ]
  },
  {
   "cell_type": "markdown",
   "id": "bae2afb0",
   "metadata": {},
   "source": [
    "DFS"
   ]
  },
  {
   "cell_type": "code",
   "execution_count": null,
   "id": "ba5d762e",
   "metadata": {},
   "outputs": [],
   "source": []
  },
  {
   "cell_type": "markdown",
   "id": "bb37a683",
   "metadata": {},
   "source": [
    "BFS"
   ]
  },
  {
   "cell_type": "code",
   "execution_count": null,
   "id": "373780d4",
   "metadata": {},
   "outputs": [],
   "source": []
  },
  {
   "cell_type": "markdown",
   "id": "0010ab96",
   "metadata": {},
   "source": [
    "Dijkstra"
   ]
  },
  {
   "cell_type": "code",
   "execution_count": null,
   "id": "a507ea05",
   "metadata": {},
   "outputs": [],
   "source": []
  },
  {
   "cell_type": "markdown",
   "id": "96d13d85",
   "metadata": {},
   "source": [
    "Floyd-Warshall"
   ]
  },
  {
   "cell_type": "code",
   "execution_count": null,
   "id": "ab618ad4",
   "metadata": {},
   "outputs": [],
   "source": []
  },
  {
   "cell_type": "markdown",
   "id": "3da5e7d4",
   "metadata": {},
   "source": [
    "Bellman-Ford"
   ]
  },
  {
   "cell_type": "code",
   "execution_count": null,
   "id": "1da56a81",
   "metadata": {},
   "outputs": [],
   "source": []
  },
  {
   "cell_type": "markdown",
   "id": "e0597a65",
   "metadata": {},
   "source": [
    "Prim"
   ]
  },
  {
   "cell_type": "code",
   "execution_count": null,
   "id": "f3b0de18",
   "metadata": {},
   "outputs": [],
   "source": []
  },
  {
   "cell_type": "markdown",
   "id": "0b5e2de4",
   "metadata": {},
   "source": [
    "Kruskal"
   ]
  },
  {
   "cell_type": "code",
   "execution_count": null,
   "id": "763c8ab0",
   "metadata": {},
   "outputs": [],
   "source": []
  },
  {
   "cell_type": "markdown",
   "id": "42ed1071",
   "metadata": {},
   "source": [
    "Union-find"
   ]
  },
  {
   "cell_type": "code",
   "execution_count": null,
   "id": "47dfd0b7",
   "metadata": {},
   "outputs": [],
   "source": []
  },
  {
   "cell_type": "markdown",
   "id": "596cc603",
   "metadata": {},
   "source": [
    "Topological sort"
   ]
  },
  {
   "cell_type": "code",
   "execution_count": null,
   "id": "22048b6d",
   "metadata": {},
   "outputs": [],
   "source": []
  },
  {
   "cell_type": "markdown",
   "id": "36753a3c",
   "metadata": {},
   "source": [
    "# Misc."
   ]
  },
  {
   "cell_type": "markdown",
   "id": "df3e39d5",
   "metadata": {},
   "source": [
    "낮 a 올라감; 밤 b 내려감; v 미터 일?"
   ]
  },
  {
   "cell_type": "markdown",
   "id": "de2d6bdf",
   "metadata": {},
   "source": [
    "```python\n",
    "# a*d - b*(d-1) >= v\n",
    "# d >= (v-b)/(a-b)\n",
    "\n",
    "d = (v-b)/(a-b)\n",
    "\n",
    "if d == int(d):\n",
    "    print(int(d))\n",
    "else:\n",
    "    print(int(d)+1)\n",
    "```"
   ]
  },
  {
   "cell_type": "markdown",
   "id": "b87901cd",
   "metadata": {},
   "source": [
    "그룹 단어"
   ]
  },
  {
   "cell_type": "markdown",
   "id": "9b92c72a",
   "metadata": {},
   "source": [
    "```python\n",
    "s = input()\n",
    "\n",
    "mark = True\n",
    "for i in range(len(s)-1):\n",
    "    if s[i]==s[i+1]:\n",
    "        pass\n",
    "    elif s[i] in s[i+1:]:\n",
    "        mark = False\n",
    "        \n",
    "print(mark)\n",
    "```"
   ]
  },
  {
   "cell_type": "markdown",
   "id": "d3e9ba93",
   "metadata": {},
   "source": [
    "덩치 등수"
   ]
  },
  {
   "cell_type": "code",
   "execution_count": 68,
   "id": "68b208c0",
   "metadata": {},
   "outputs": [
    {
     "name": "stdout",
     "output_type": "stream",
     "text": [
      "5\n",
      "55 185\n",
      "58 183\n",
      "88 186\n",
      "60 175\n",
      "46 155\n",
      "2 2 1 2 5 "
     ]
    }
   ],
   "source": [
    "t = int(input())\n",
    "\n",
    "l = []\n",
    "for _ in range(t):\n",
    "    w, h = map(int, input().split())\n",
    "    l.append((w, h))\n",
    "    \n",
    "for i in l:\n",
    "    rank = 1\n",
    "    for j in l:\n",
    "        if i[0]<j[0] and i[1]<j[1]:\n",
    "            rank+=1\n",
    "    print(rank, end=\" \")"
   ]
  },
  {
   "cell_type": "code",
   "execution_count": 81,
   "id": "6fc154f0",
   "metadata": {},
   "outputs": [
    {
     "name": "stdout",
     "output_type": "stream",
     "text": [
      "5\n",
      "2 4 -10 4 -9\n",
      "2 3 0 3 1 "
     ]
    }
   ],
   "source": [
    "n = int(input())\n",
    "\n",
    "l = list(map(int, input().split()))\n",
    "\n",
    "x = list(sorted(set(l)))\n",
    "\n",
    "d = {}\n",
    "for i in range(len(x)):\n",
    "    d[x[i]] = i\n",
    "    \n",
    "for i in l:\n",
    "    print(d[i], end=\" \")"
   ]
  }
 ],
 "metadata": {
  "interpreter": {
   "hash": "11ff6bfcaecee1ee58efd5056b36e79a4e8f4f988a95af2d0be67cac6c4657fe"
  },
  "kernelspec": {
   "display_name": "Python 3",
   "language": "python",
   "name": "python3"
  },
  "language_info": {
   "codemirror_mode": {
    "name": "ipython",
    "version": 3
   },
   "file_extension": ".py",
   "mimetype": "text/x-python",
   "name": "python",
   "nbconvert_exporter": "python",
   "pygments_lexer": "ipython3",
   "version": "3.8.13"
  }
 },
 "nbformat": 4,
 "nbformat_minor": 5
}
